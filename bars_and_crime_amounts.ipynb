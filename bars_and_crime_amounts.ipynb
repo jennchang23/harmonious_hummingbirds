{
 "cells": [
  {
   "cell_type": "code",
   "execution_count": 1,
   "metadata": {},
   "outputs": [],
   "source": [
    "#Importing dependancies\n",
    "\n",
    "from newfileLR import key\n",
    "import pandas as pd\n",
    "import numpy as np\n",
    "import time \n",
    "import gmaps\n",
    "from newfileLR import gkey\n",
    "import matplotlib.pyplot as plt\n",
    "gmaps.configure(api_key=gkey)\n",
    "API_KEY = key\n",
    "%matplotlib notebook"
   ]
  },
  {
   "cell_type": "code",
   "execution_count": 2,
   "metadata": {
    "scrolled": true
   },
   "outputs": [
    {
     "data": {
      "text/html": [
       "<div>\n",
       "<style scoped>\n",
       "    .dataframe tbody tr th:only-of-type {\n",
       "        vertical-align: middle;\n",
       "    }\n",
       "\n",
       "    .dataframe tbody tr th {\n",
       "        vertical-align: top;\n",
       "    }\n",
       "\n",
       "    .dataframe thead th {\n",
       "        text-align: right;\n",
       "    }\n",
       "</style>\n",
       "<table border=\"1\" class=\"dataframe\">\n",
       "  <thead>\n",
       "    <tr style=\"text-align: right;\">\n",
       "      <th></th>\n",
       "      <th>name</th>\n",
       "      <th>review_count</th>\n",
       "      <th>lat</th>\n",
       "      <th>long</th>\n",
       "      <th>price</th>\n",
       "      <th>count of crimes</th>\n",
       "      <th>count_of_crimes</th>\n",
       "    </tr>\n",
       "  </thead>\n",
       "  <tbody>\n",
       "    <tr>\n",
       "      <td>0</td>\n",
       "      <td>The Penthouse at Mastro's</td>\n",
       "      <td>4650</td>\n",
       "      <td>34.068933</td>\n",
       "      <td>-118.398747</td>\n",
       "      <td>$$$$</td>\n",
       "      <td>53</td>\n",
       "      <td>53</td>\n",
       "    </tr>\n",
       "    <tr>\n",
       "      <td>1</td>\n",
       "      <td>Gracias Madre - West Hollywood</td>\n",
       "      <td>4101</td>\n",
       "      <td>34.080795</td>\n",
       "      <td>-118.386972</td>\n",
       "      <td>$$</td>\n",
       "      <td>73</td>\n",
       "      <td>73</td>\n",
       "    </tr>\n",
       "    <tr>\n",
       "      <td>2</td>\n",
       "      <td>Taste on Melrose</td>\n",
       "      <td>2627</td>\n",
       "      <td>34.082573</td>\n",
       "      <td>-118.374798</td>\n",
       "      <td>$$</td>\n",
       "      <td>132</td>\n",
       "      <td>132</td>\n",
       "    </tr>\n",
       "    <tr>\n",
       "      <td>3</td>\n",
       "      <td>GRANVILLE</td>\n",
       "      <td>2622</td>\n",
       "      <td>34.145109</td>\n",
       "      <td>-118.255093</td>\n",
       "      <td>$$</td>\n",
       "      <td>40</td>\n",
       "      <td>40</td>\n",
       "    </tr>\n",
       "    <tr>\n",
       "      <td>4</td>\n",
       "      <td>Fig &amp; Olive - Melrose Place</td>\n",
       "      <td>2488</td>\n",
       "      <td>34.083475</td>\n",
       "      <td>-118.376174</td>\n",
       "      <td>$$$</td>\n",
       "      <td>124</td>\n",
       "      <td>124</td>\n",
       "    </tr>\n",
       "  </tbody>\n",
       "</table>\n",
       "</div>"
      ],
      "text/plain": [
       "                             name  review_count        lat        long price  \\\n",
       "0       The Penthouse at Mastro's          4650  34.068933 -118.398747  $$$$   \n",
       "1  Gracias Madre - West Hollywood          4101  34.080795 -118.386972    $$   \n",
       "2                Taste on Melrose          2627  34.082573 -118.374798    $$   \n",
       "3                       GRANVILLE          2622  34.145109 -118.255093    $$   \n",
       "4     Fig & Olive - Melrose Place          2488  34.083475 -118.376174   $$$   \n",
       "\n",
       "   count of crimes  count_of_crimes  \n",
       "0               53               53  \n",
       "1               73               73  \n",
       "2              132              132  \n",
       "3               40               40  \n",
       "4              124              124  "
      ]
     },
     "execution_count": 2,
     "metadata": {},
     "output_type": "execute_result"
    }
   ],
   "source": [
    "#Loading the csv file to munge in pandas dataframe\n",
    "bars_crime_df = pd.read_csv(\"bars_and_crime.csv\")\n",
    "\n",
    "bars_crime_df.head()"
   ]
  },
  {
   "cell_type": "code",
   "execution_count": 3,
   "metadata": {},
   "outputs": [],
   "source": [
    "#Reduced the number of columns to just include the price and count of crimes columns\n",
    "reduced_df = bars_crime_df[[\"price\", \"count_of_crimes\"]]"
   ]
  },
  {
   "cell_type": "code",
   "execution_count": 4,
   "metadata": {},
   "outputs": [
    {
     "data": {
      "text/html": [
       "<div>\n",
       "<style scoped>\n",
       "    .dataframe tbody tr th:only-of-type {\n",
       "        vertical-align: middle;\n",
       "    }\n",
       "\n",
       "    .dataframe tbody tr th {\n",
       "        vertical-align: top;\n",
       "    }\n",
       "\n",
       "    .dataframe thead th {\n",
       "        text-align: right;\n",
       "    }\n",
       "</style>\n",
       "<table border=\"1\" class=\"dataframe\">\n",
       "  <thead>\n",
       "    <tr style=\"text-align: right;\">\n",
       "      <th></th>\n",
       "      <th>bars</th>\n",
       "      <th>count</th>\n",
       "    </tr>\n",
       "  </thead>\n",
       "  <tbody>\n",
       "    <tr>\n",
       "      <td>0</td>\n",
       "      <td>cheap</td>\n",
       "      <td>39</td>\n",
       "    </tr>\n",
       "    <tr>\n",
       "      <td>1</td>\n",
       "      <td>moderate</td>\n",
       "      <td>9</td>\n",
       "    </tr>\n",
       "    <tr>\n",
       "      <td>2</td>\n",
       "      <td>expensive</td>\n",
       "      <td>2</td>\n",
       "    </tr>\n",
       "  </tbody>\n",
       "</table>\n",
       "</div>"
      ],
      "text/plain": [
       "        bars  count\n",
       "0      cheap     39\n",
       "1   moderate      9\n",
       "2  expensive      2"
      ]
     },
     "execution_count": 4,
     "metadata": {},
     "output_type": "execute_result"
    }
   ],
   "source": [
    "#Checking to see the amount of bars per price point\n",
    "cheap_bars = reduced_df.query('price == \"$$\"').price.count()\n",
    "moderate_bars = reduced_df.query('price == \"$$$\"').price.count()\n",
    "expensive_bars = reduced_df.query('price == \"$$$$\"').price.count()\n",
    "\n",
    "bar_count = pd.DataFrame({\"bars\" : [\"cheap\", \"moderate\", \"expensive\"], \"count\" : [cheap_bars, moderate_bars, expensive_bars]})\n",
    "\n",
    "bar_count"
   ]
  },
  {
   "cell_type": "code",
   "execution_count": 5,
   "metadata": {},
   "outputs": [
    {
     "data": {
      "text/html": [
       "<div>\n",
       "<style scoped>\n",
       "    .dataframe tbody tr th:only-of-type {\n",
       "        vertical-align: middle;\n",
       "    }\n",
       "\n",
       "    .dataframe tbody tr th {\n",
       "        vertical-align: top;\n",
       "    }\n",
       "\n",
       "    .dataframe thead th {\n",
       "        text-align: right;\n",
       "    }\n",
       "</style>\n",
       "<table border=\"1\" class=\"dataframe\">\n",
       "  <thead>\n",
       "    <tr style=\"text-align: right;\">\n",
       "      <th></th>\n",
       "      <th>price</th>\n",
       "      <th>review_count</th>\n",
       "      <th>lat</th>\n",
       "      <th>long</th>\n",
       "      <th>count of crimes</th>\n",
       "      <th>count_of_crimes</th>\n",
       "    </tr>\n",
       "  </thead>\n",
       "  <tbody>\n",
       "    <tr>\n",
       "      <td>0</td>\n",
       "      <td>Cheap</td>\n",
       "      <td>62830</td>\n",
       "      <td>1328.906927</td>\n",
       "      <td>-4614.951955</td>\n",
       "      <td>38445</td>\n",
       "      <td>38445</td>\n",
       "    </tr>\n",
       "    <tr>\n",
       "      <td>1</td>\n",
       "      <td>Moderate</td>\n",
       "      <td>16300</td>\n",
       "      <td>306.663880</td>\n",
       "      <td>-1065.073998</td>\n",
       "      <td>8534</td>\n",
       "      <td>8534</td>\n",
       "    </tr>\n",
       "    <tr>\n",
       "      <td>2</td>\n",
       "      <td>Expensive</td>\n",
       "      <td>5872</td>\n",
       "      <td>68.140872</td>\n",
       "      <td>-236.787159</td>\n",
       "      <td>126</td>\n",
       "      <td>126</td>\n",
       "    </tr>\n",
       "  </tbody>\n",
       "</table>\n",
       "</div>"
      ],
      "text/plain": [
       "       price  review_count          lat         long  count of crimes  \\\n",
       "0      Cheap         62830  1328.906927 -4614.951955            38445   \n",
       "1   Moderate         16300   306.663880 -1065.073998             8534   \n",
       "2  Expensive          5872    68.140872  -236.787159              126   \n",
       "\n",
       "   count_of_crimes  \n",
       "0            38445  \n",
       "1             8534  \n",
       "2              126  "
      ]
     },
     "execution_count": 5,
     "metadata": {},
     "output_type": "execute_result"
    }
   ],
   "source": [
    "#Counted the number of crimes per price point and renamed the price category to read into the bar graph smoothly.\n",
    "grouped_df = bars_crime_df.groupby([\"price\"]).sum()\n",
    "\n",
    "grouped_df.reset_index(inplace=True)\n",
    "\n",
    "grouped_df[\"price\"] = (\"Cheap\", \"Moderate\", \"Expensive\")\n",
    "\n",
    "grouped_df"
   ]
  },
  {
   "cell_type": "code",
   "execution_count": 6,
   "metadata": {
    "scrolled": false
   },
   "outputs": [
    {
     "data": {
      "image/png": "[encoded data removed]",
      "text/plain": [
       "<Figure size 432x288 with 1 Axes>"
      ]
     },
     "metadata": {
      "needs_background": "light"
     },
     "output_type": "display_data"
    }
   ],
   "source": [
    "#Plotted and saved the results\n",
    "fig, ax = plt.subplots()\n",
    "\n",
    "ax.bar(grouped_df[\"price\"], grouped_df[\"count_of_crimes\"], color = \"red\")\n",
    "ax.set_xlabel(\"Price Point\")\n",
    "ax.set_ylabel(\"Count of Crimes\")\n",
    "ax.set_title(\"Count of Crimes vs Price Point of Bars\")\n",
    "fig.savefig(\"count_crimes_bars.png\");"
   ]
  },
  {
   "cell_type": "code",
   "execution_count": 15,
   "metadata": {},
   "outputs": [
    {
     "data": {
      "text/html": [
       "<div>\n",
       "<style scoped>\n",
       "    .dataframe tbody tr th:only-of-type {\n",
       "        vertical-align: middle;\n",
       "    }\n",
       "\n",
       "    .dataframe tbody tr th {\n",
       "        vertical-align: top;\n",
       "    }\n",
       "\n",
       "    .dataframe thead th {\n",
       "        text-align: right;\n",
       "    }\n",
       "</style>\n",
       "<table border=\"1\" class=\"dataframe\">\n",
       "  <thead>\n",
       "    <tr style=\"text-align: right;\">\n",
       "      <th></th>\n",
       "      <th>crime_count_per_bar</th>\n",
       "      <th>price</th>\n",
       "    </tr>\n",
       "  </thead>\n",
       "  <tbody>\n",
       "    <tr>\n",
       "      <td>0</td>\n",
       "      <td>985.769231</td>\n",
       "      <td>Cheap</td>\n",
       "    </tr>\n",
       "    <tr>\n",
       "      <td>1</td>\n",
       "      <td>948.222222</td>\n",
       "      <td>Moderate</td>\n",
       "    </tr>\n",
       "    <tr>\n",
       "      <td>2</td>\n",
       "      <td>63.000000</td>\n",
       "      <td>Expensive</td>\n",
       "    </tr>\n",
       "  </tbody>\n",
       "</table>\n",
       "</div>"
      ],
      "text/plain": [
       "   crime_count_per_bar      price\n",
       "0           985.769231      Cheap\n",
       "1           948.222222   Moderate\n",
       "2            63.000000  Expensive"
      ]
     },
     "execution_count": 15,
     "metadata": {},
     "output_type": "execute_result"
    }
   ],
   "source": [
    "#Created DataFrame to represent crime per bar per price point\n",
    "divided_df = pd.DataFrame(grouped_df[\"count_of_crimes\"].div(bar_count[\"count\"]))\n",
    "#Formatted the column name\n",
    "divided_df.rename(columns = {0 : \"crime_count_per_bar\"}, inplace=True)\n",
    "#Added price point for each ratio\n",
    "divided_df[\"price\"] = (\"Cheap\", \"Moderate\", \"Expensive\")\n",
    "\n",
    "divided_df"
   ]
  },
  {
   "cell_type": "code",
   "execution_count": 20,
   "metadata": {},
   "outputs": [
    {
     "data": {
      "image/png": "[encoded data removed]",
      "text/plain": [
       "<Figure size 432x288 with 1 Axes>"
      ]
     },
     "metadata": {
      "needs_background": "light"
     },
     "output_type": "display_data"
    }
   ],
   "source": [
    "#Plotted the results of crime per bar per price point\n",
    "fig2, ax2 = plt.subplots()\n",
    "ax2.bar(divided_df[\"price\"], divided_df[\"crime_count_per_bar\"])\n",
    "ax2.set_ylabel(\"Crime Count per Bar\")\n",
    "ax2.set_xlabel(\"Price Point\")\n",
    "ax2.set_title(\"Crime Count per Bar per Price Point\")\n",
    "fig2.savefig(\"crime_count_per_bar_per_price.png\");"
   ]
  }
 ],
 "metadata": {
  "kernelspec": {
   "display_name": "Python 3",
   "language": "python",
   "name": "python3"
  },
  "language_info": {
   "codemirror_mode": {
    "name": "ipython",
    "version": 3
   },
   "file_extension": ".py",
   "mimetype": "text/x-python",
   "name": "python",
   "nbconvert_exporter": "python",
   "pygments_lexer": "ipython3",
   "version": "3.7.4"
  }
 },
 "nbformat": 4,
 "nbformat_minor": 2
}
