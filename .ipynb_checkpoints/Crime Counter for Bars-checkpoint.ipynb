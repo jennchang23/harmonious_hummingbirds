{
 "cells": [
  {
   "cell_type": "code",
   "execution_count": null,
   "metadata": {},
   "outputs": [],
   "source": [
    "crime_counter_list = []\n",
    "i = 0\n",
    "\n",
    "# if crime is less than or 2 miles away from bar, then add 1 to the bar's # of crimes\n",
    "for bar in bars:\n",
    "    for crime in crimes:\n",
    "        if distance <= 2:\n",
    "            i = i + 1\n",
    "    crime_counter_list.append(i)\n",
    "    i = 0\n",
    "    \n",
    "df[\"count of crimes\"] = crime_counter_list\n",
    "                "
   ]
  },
  {
   "cell_type": "code",
   "execution_count": null,
   "metadata": {},
   "outputs": [],
   "source": [
    "# count number of bars at each price point\n",
    "onedollar_bars = 0\n",
    "twodollar_bars = 0\n",
    "threedollar_bars = 0\n",
    "fourdollar_bars = 0\n",
    "\n",
    "for bar in bars:\n",
    "    if price = \"$\":\n",
    "        onedollar_bars = onedollar_bars + 1\n",
    "    elif price = \"$$\":\n",
    "        twodollar_bars = twodollar_bars + 1\n",
    "    elif price = \"$$$\":\n",
    "        threedollar_bars = threedollar_bars + 1\n",
    "    elif price = \"$$$$\":\n",
    "        fourdollar_bars = fourdollar_bars + 1\n",
    "\n",
    "# add up number of crimes around bars in each price point\n",
    "if price = \"$\":\n",
    "    onedollar_crimes = sum of countofcrimes\n",
    "if price = \"$$\":\n",
    "    twodollar_crimes = sum of countofcrimes\n",
    "if price = \"$$$\":\n",
    "    threedollar_crimes = sum of countofcrimes\n",
    "if price = \"$$$$\":\n",
    "    fourdollar_crimes = sum of countofcrimes\n",
    "    \n"
   ]
  }
 ],
 "metadata": {
  "kernelspec": {
   "display_name": "Python 3",
   "language": "python",
   "name": "python3"
  },
  "language_info": {
   "codemirror_mode": {
    "name": "ipython",
    "version": 3
   },
   "file_extension": ".py",
   "mimetype": "text/x-python",
   "name": "python",
   "nbconvert_exporter": "python",
   "pygments_lexer": "ipython3",
   "version": "3.7.4"
  }
 },
 "nbformat": 4,
 "nbformat_minor": 2
}
